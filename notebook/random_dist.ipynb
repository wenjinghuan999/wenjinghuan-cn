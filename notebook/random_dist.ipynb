{
 "cells": [
  {
   "cell_type": "markdown",
   "metadata": {},
   "source": [
    "---\n",
    "category: 数学\n",
    "tag: \n",
    "  - 数学\n",
    "---"
   ]
  },
  {
   "cell_type": "markdown",
   "metadata": {},
   "source": [
    "# 生成任意分布的随机数\n",
    "\n",
    "一般的编程语言或库都有生成均匀分布的（伪）随机数的函数。但有时我们会需要生成一个具有指定分布函数的随机数。这就需要我们对均匀分布的随机数进行变换。\n",
    "\n",
    "比如我们可能会经常遇到的，生成一个均匀分布于二维平面单位圆内的随机点。通常做法可以是生成 $x, y \\sim U(-1, 1)$，然后判断是否在单位圆内，如果不在则重新取。"
   ]
  },
  {
   "cell_type": "markdown",
   "metadata": {},
   "source": [
    "## 圆内均匀分布的简单实现"
   ]
  },
  {
   "cell_type": "code",
   "execution_count": null,
   "metadata": {},
   "outputs": [
    {
     "data": {
      "image/png": "[encoded data removed]",
      "text/plain": [
       "<Figure size 432x288 with 1 Axes>"
      ]
     },
     "metadata": {
      "needs_background": "light"
     },
     "output_type": "display_data"
    }
   ],
   "source": [
    "import random\n",
    "from typing import Tuple, List\n",
    "from matplotlib import pyplot as plt\n",
    "\n",
    "Point = Tuple[float, float]\n",
    "\n",
    "def random_point_in_unit_circle_trivial() -> Point:\n",
    "    while True:\n",
    "        x = 2.0 * random.random() - 1.0\n",
    "        y = 2.0 * random.random() - 1.0\n",
    "        if x ** 2 + y ** 2 < 1:\n",
    "            return x, y\n",
    "\n",
    "# https://stackoverflow.com/questions/9081553/python-scatter-plot-size-and-style-of-the-marker/24567352#24567352\n",
    "# https://stackoverflow.com/a/24568380/4635234\n",
    "def draw_circle(center: Point, radius: float, **kwargs):\n",
    "    import matplotlib.patches\n",
    "    import matplotlib.collections\n",
    "    patches = [matplotlib.patches.Circle(center, radius)]\n",
    "    collection = matplotlib.collections.PatchCollection(patches, **kwargs)\n",
    "\n",
    "    ax = plt.gca()\n",
    "    ax.add_collection(collection)\n",
    "    ax.autoscale_view()\n",
    "    ax.axis('equal')\n",
    "\n",
    "def draw_points(points: List[Point]):\n",
    "    x, y = zip(*points)\n",
    "    plt.scatter(x, y)\n",
    "\n",
    "points = [random_point_in_unit_circle_trivial() for _ in range(500)]\n",
    "draw_points(points)\n",
    "draw_circle((0, 0), 1, alpha=0.2, edgecolor='b')"
   ]
  },
  {
   "cell_type": "markdown",
   "metadata": {},
   "source": [
    "\n",
    "\n",
    "这当然是一个方法，但它局限于均匀分布。而且重复随机采样，虽然平均复杂度仍为 $O(1)$，但是似乎不太优雅。有没有一种更通用的方法呢？\n",
    "\n"
   ]
  },
  {
   "cell_type": "markdown",
   "metadata": {},
   "source": [
    "## 基于分布函数的方法\n",
    "\n",
    "还是同样的问题。我们可以看出，在单位圆内均匀分布的点，用笛卡尔坐标表示为 $(X, Y)$，满足如下分布函数：\n",
    "$$\n",
    "f_{XY}(x, y) = \\left\\{\n",
    "\\begin{aligned}\n",
    "&\\frac{1}{\\pi}, & x^2 + y^2 < 1 \\\\\n",
    "&0, & \\text{otherwise}\n",
    "\\end{aligned}\n",
    "\\right.\n",
    "$$\n",
    "这看起来并不是一个非常简单的分布函数。我们不妨用极坐标表示为 $(\\Rho, \\Theta)$。（其中 $\\Rho, \\Theta$ 为随机变量，是 $\\rho$ 和 $\\theta$ 的大写。）这样有\n",
    "$$\n",
    "g_{\\Rho\\Theta}(\\rho, \\theta) = \\left\\{\n",
    "\\begin{aligned}\n",
    "&\\frac{\\rho}{\\pi}, & \\rho < 1 \\\\\n",
    "&0, & \\text{otherwise}\n",
    "\\end{aligned}\n",
    "\\right.\n",
    "$$\n",
    "（以下将两个分布函数简写为 $f$、$g$。）\n",
    "\n",
    "这个分布函数是如何得到的呢？这就是多元微积分的知识了。实际上我们可以先验证一下这个分布函数是否正确，至少它应满足积分为$1$。\n",
    "$$\n",
    "\\int_0^{2\\pi}d\\theta \\int_0^1 g(\\rho, \\theta) d\\rho = 1\n",
    "$$\n",
    "确实没错。\n",
    "\n",
    "教材上会告诉我们，要计算 Jacobi 矩阵的行列式，然后可能会给出一堆证明，令人头秃。实际上，我们可以通过极坐标和笛卡尔坐标的微分转换关系，用一个比较形象的方法得到上述分布函数。\n",
    "\n",
    "<img src=\"imgs/cartesian_polar.png\" width=400px />\n",
    "\n",
    "在单位圆内取一个微小的区域 $d\\Omega$。无论用何种坐标系，点落在这个微小区域内的概率应该是一样的，即\n",
    "$$\n",
    "p_{d\\Omega} = P(x < X < x + dx, y < Y < y + dy) = P(\\rho < \\Rho < \\rho + d\\rho, \\theta < \\Theta < \\theta + d\\theta)\n",
    "$$\n",
    "用分布函数的积分值表示上述点落在这个区域内的概率，即\n",
    "$$\n",
    "f(x, y)dxdy = g(\\rho, \\theta) d\\rho d\\theta\n",
    "$$\n",
    "而根据微分的转换关系，有\n",
    "$$\n",
    "dxdy = \\rho d\\rho d\\theta\n",
    "$$\n",
    "这可以由 Jacobi 矩阵的行列式得到，也可以用上图来看出。$dx dy$ 是用直角坐标系计算 $d\\Omega$ 的面积，而 $\\rho d\\rho d\\theta$ 是用极坐标系计算 $d\\Omega$ 的面积，其中 $d\\rho$ 是沿极坐标径向的长度，$\\rho d\\theta$ 是垂直于径向的弧长。注意这只是形象的解释，具体计算原则还是应该按照教科书上的推导。\n",
    "\n",
    "所以有\n",
    "$$\n",
    "g(\\rho, \\theta) = f(x, y) \\rho = \\frac{\\rho}{\\pi}, \\quad 0 < \\rho < 1\n",
    "$$\n",
    "\n",
    "那么可以看出 $\\rho$ 和 $\\theta$ 的分布函数相互独立，即\n",
    "$$\n",
    "g_{\\Rho\\Theta}(\\rho, \\theta) = h_{\\Rho}(\\rho)\\cdot t_{\\Theta}(\\theta) = 2\\rho \\cdot \\frac{1}{2\\pi} \n",
    "$$\n",
    "我们只需要生成一个 $[0, 2\\pi)$ 均匀分布的 $\\theta$，和一个在 $[0, 1)$ 上、分布函数为 $h(\\rho) = 2\\rho$ 的 $\\rho$ 即可。\n",
    "\n",
    "接下来问题就是如何生成分布函数为 $h(\\rho) = 2\\rho, \\rho \\in [0, 1)$ 的随机变量了。"
   ]
  },
  {
   "cell_type": "markdown",
   "metadata": {},
   "source": [
    "## 生成服从某分布函数的随机变量\n",
    "\n",
    "考虑服从以下分布函数的随机变量 $\\Rho$：\n",
    "$$\n",
    "f_\\Rho(\\rho)=2\\rho, \\quad \\rho \\in [0, 1)\n",
    "$$\n",
    "我们在程序中可以直接随机生成的随机数 $Z$ 一般是服从 $U(0, 1)$ 的。即分布函数为\n",
    "$$\n",
    "f_Z(z) = 1, \\quad z \\in [0, 1)\n",
    "$$\n",
    "\n",
    "现在我们希望建立 $\\Rho$、$Z$ 之间的函数关系，这样我们就可以通过一个变换，从随机生成的 $Z$ 得到 $\\Rho$。这个函数关系我们还不知道。那么我们仍然可以用两个分布函数分别表示随机数落在某一微小区间内的概率：\n",
    "$$\n",
    "p_{d\\Omega} = P(\\rho < \\Rho < \\rho + d\\rho) = P(z < Z < z + dz)\n",
    "$$\n",
    "用分布函数的微分表示：\n",
    "$$\n",
    "f_\\Rho(\\rho)d\\rho = f_Z(z)dz\n",
    "$$\n",
    "那么\n",
    "$$\n",
    "\\frac{dz}{d\\rho} = \\frac{f_\\Rho(\\rho)}{f_Z(z)} = 2\\rho\n",
    "$$\n",
    "神奇了，我们得到了 $z$ 关于 $\\rho$ 的导数。那么对其积分，可得\n",
    "$$\n",
    "z = \\rho^2 + C\n",
    "$$\n",
    "根据 $z$ 和 $\\rho$ 的定义域，我们可以约定 $z=0$ 时 $\\rho = 0$，那么 $C = 0$，于是\n",
    "$$\n",
    "z = \\rho^2\n",
    "$$\n",
    "即\n",
    "$$\n",
    "\\rho = \\sqrt{z}\n",
    "$$\n",
    "\n",
    "也就是说，我们生成一个 $Z \\sim U(0, 1)$，然后求根号，就得到了服从分布函数 $f_\\Rho$ 的 $\\Rho$ 了。\n",
    "\n",
    "我们试试用这个方法生成单位圆内均匀分布的点。"
   ]
  },
  {
   "cell_type": "code",
   "execution_count": null,
   "metadata": {},
   "outputs": [],
   "source": [
    "import math\n",
    "\n",
    "def random_point_in_unit_circle() -> Point:\n",
    "    while True:\n",
    "        rho = math.sqrt(random.random())\n",
    "        theta = 2 * math.pi * random.random()\n",
    "        return rho * math.cos(theta), rho * math.sin(theta)\n",
    "\n",
    "points = [random_point_in_unit_circle() for _ in range(500)]\n",
    "draw_points(points)\n",
    "draw_circle((0, 0), 1, alpha=0.2, edgecolor='b')"
   ]
  }
 ],
 "metadata": {
  "interpreter": {
   "hash": "d1d16220ec62adcf873d9d7a9823c98ad8e458002a1c41688af4dc2d64924e7b"
  },
  "kernelspec": {
   "display_name": "Python 3.8.5 64-bit ('base': conda)",
   "language": "python",
   "name": "python3"
  },
  "language_info": {
   "codemirror_mode": {
    "name": "ipython",
    "version": 3
   },
   "file_extension": ".py",
   "mimetype": "text/x-python",
   "name": "python",
   "nbconvert_exporter": "python",
   "pygments_lexer": "ipython3",
   "version": "3.8.5"
  },
  "orig_nbformat": 4
 },
 "nbformat": 4,
 "nbformat_minor": 2
}
